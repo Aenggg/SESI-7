{
 "cells": [
  {
   "cell_type": "markdown",
   "id": "43a22b46",
   "metadata": {},
   "source": [
    "<b>LOOPPING<b>"
   ]
  },
  {
   "cell_type": "code",
   "execution_count": 5,
   "id": "a884b378",
   "metadata": {},
   "outputs": [
    {
     "name": "stdout",
     "output_type": "stream",
     "text": [
      "12345678910"
     ]
    }
   ],
   "source": [
    "#mencoba angka\n",
    "for angka in range(1,11):\n",
    "    print(angka,end=\"\")\n",
    "    \n"
   ]
  },
  {
   "cell_type": "code",
   "execution_count": 8,
   "id": "c24cb377",
   "metadata": {},
   "outputs": [
    {
     "name": "stdout",
     "output_type": "stream",
     "text": [
      "0102030405060708090"
     ]
    }
   ],
   "source": [
    "for angka in range (10):\n",
    "    print(angka * 10,end =\"\")"
   ]
  },
  {
   "cell_type": "code",
   "execution_count": 12,
   "id": "c90e60fc",
   "metadata": {},
   "outputs": [
    {
     "name": "stdout",
     "output_type": "stream",
     "text": [
      "10987654321"
     ]
    }
   ],
   "source": [
    "#mencari angka negatif\n",
    "for angka in range (1,11):\n",
    "    print(11-angka,end =\"\")"
   ]
  },
  {
   "cell_type": "code",
   "execution_count": 14,
   "id": "523b999e",
   "metadata": {},
   "outputs": [
    {
     "name": "stdout",
     "output_type": "stream",
     "text": [
      "10987654321"
     ]
    }
   ],
   "source": [
    "for angka in range (10,0,-1):\n",
    "    print(angka,end =\"\")"
   ]
  },
  {
   "cell_type": "code",
   "execution_count": 26,
   "id": "5a77da38",
   "metadata": {},
   "outputs": [],
   "source": [
    "for angka in range(1,-11):\n",
    "    print(angka,end = \"\")"
   ]
  },
  {
   "cell_type": "code",
   "execution_count": 29,
   "id": "2da44b89",
   "metadata": {},
   "outputs": [
    {
     "name": "stdout",
     "output_type": "stream",
     "text": [
      "-1-2-3-4-5-6-7-8-9-10"
     ]
    }
   ],
   "source": [
    "no = -1\n",
    "for angka in range(1,11):\n",
    "    no = angka * -1\n",
    "    print(angka*-1,end =\"\")"
   ]
  },
  {
   "cell_type": "code",
   "execution_count": 41,
   "id": "16e73ea7",
   "metadata": {},
   "outputs": [
    {
     "name": "stdout",
     "output_type": "stream",
     "text": [
      "masukan bilangan : 3\n",
      "3! adalah 27\n"
     ]
    }
   ],
   "source": [
    "#mencari bilangan faktorial\n",
    "bil=int(input('masukan bilangan : '))\n",
    "\n",
    "hasil = 1\n",
    " \n",
    "for angka in range(1, bil+1):\n",
    "    hasil = hasil * bil\n",
    "    \n",
    "print(f\"{bil}! adalah {hasil}\")    "
   ]
  },
  {
   "cell_type": "code",
   "execution_count": 44,
   "id": "acfa144e",
   "metadata": {},
   "outputs": [
    {
     "name": "stdout",
     "output_type": "stream",
     "text": [
      "masukan angka :3\n",
      ":masukan pangkat :2\n",
      "3 = 9\n"
     ]
    }
   ],
   "source": [
    "#mencari bilangan pangkat\n",
    "bil=int(input(\"masukan angka :\"))\n",
    "pangkat=int(input(\":masukan pangkat :\"))\n",
    "                  \n",
    "hasil = 1\n",
    "                  \n",
    "for i in range (1):\n",
    "    hasil = bil ** pangkat\n",
    "print(f\"{bil} = {hasil}\")"
   ]
  },
  {
   "cell_type": "code",
   "execution_count": 3,
   "id": "58903875",
   "metadata": {},
   "outputs": [
    {
     "name": "stdout",
     "output_type": "stream",
     "text": [
      "masukan angka :9\n",
      "9 bukan bilangan prima\n"
     ]
    }
   ],
   "source": [
    "#menegcek bilangan prima dan bukan\n",
    "bil=int(input(\"masukan angka :\"))\n",
    "\n",
    "hasil = 0\n",
    "\n",
    "for i in range(1,bil+1):\n",
    "    sisa= bil % i\n",
    "    if sisa == 0:\n",
    "        hasil = hasil + 1\n",
    "if hasil == 2:\n",
    "    print(f\"{bil} bilangan prima\")\n",
    "else :\n",
    "    print(f\"{bil} bukan bilangan prima\")"
   ]
  },
  {
   "cell_type": "code",
   "execution_count": 6,
   "id": "661f599e",
   "metadata": {},
   "outputs": [
    {
     "name": "stdout",
     "output_type": "stream",
     "text": [
      "12345678910"
     ]
    }
   ],
   "source": [
    "#break\n",
    "for i in range (1,100):\n",
    "    print(i,end =\"\")\n",
    "    if i==10:\n",
    "        break"
   ]
  },
  {
   "cell_type": "code",
   "execution_count": 14,
   "id": "ceb51864",
   "metadata": {},
   "outputs": [
    {
     "name": "stdout",
     "output_type": "stream",
     "text": [
      "masukan kalimat :aeng\n",
      "jumlah vocal 2\n"
     ]
    }
   ],
   "source": [
    "#looping string\n",
    "kalimat=input(\"masukan kalimat :\")\n",
    "vokal = 0\n",
    "\n",
    "for i in kalimat:\n",
    "    if i == 'a':\n",
    "        vokal += 1\n",
    "    elif i == 'i':\n",
    "        vokal += 1\n",
    "    elif i == 'u':\n",
    "        vokal += 1\n",
    "    elif i == 'e':\n",
    "        vokal += 1\n",
    "    elif i == 'o':\n",
    "        vokal += 1\n",
    "print (f\"jumlah vocal {vokal}\")"
   ]
  },
  {
   "cell_type": "code",
   "execution_count": null,
   "id": "95695680",
   "metadata": {},
   "outputs": [
    {
     "name": "stdout",
     "output_type": "stream",
     "text": [
      "masukan kalimat :EZRA\n",
      "BUKAN palindrome\n",
      "Apakah mau mengulang program(Y/T)?:Y\n",
      "Apakah mau mengulang program(Y/T)?:Y\n",
      "Apakah mau mengulang program(Y/T)?:YYYY\n",
      "Apakah mau mengulang program(Y/T)?:\n",
      "Apakah mau mengulang program(Y/T)?:Y\n",
      "Apakah mau mengulang program(Y/T)?:Y\n",
      "Apakah mau mengulang program(Y/T)?:Y\n",
      "Apakah mau mengulang program(Y/T)?:\n",
      "Apakah mau mengulang program(Y/T)?:Y\n",
      "Apakah mau mengulang program(Y/T)?:\n",
      "Apakah mau mengulang program(Y/T)?:Y\n",
      "Apakah mau mengulang program(Y/T)?:Y\n",
      "Apakah mau mengulang program(Y/T)?:\n",
      "Apakah mau mengulang program(Y/T)?:YYY\n",
      "Apakah mau mengulang program(Y/T)?:\n",
      "Apakah mau mengulang program(Y/T)?:Y\n",
      "Apakah mau mengulang program(Y/T)?:\n",
      "Apakah mau mengulang program(Y/T)?:Y\n",
      "Apakah mau mengulang program(Y/T)?:Y\n",
      "Apakah mau mengulang program(Y/T)?:\n",
      "Apakah mau mengulang program(Y/T)?:Y\n",
      "Apakah mau mengulang program(Y/T)?:\n",
      "Apakah mau mengulang program(Y/T)?:Y\n",
      "Apakah mau mengulang program(Y/T)?:\n",
      "Apakah mau mengulang program(Y/T)?:T\n",
      "Apakah mau mengulang program(Y/T)?:TYTTTTTY\n",
      "Apakah mau mengulang program(Y/T)?:\n",
      "Apakah mau mengulang program(Y/T)?:TY\n",
      "Apakah mau mengulang program(Y/T)?:\n",
      "Apakah mau mengulang program(Y/T)?:T5T\n"
     ]
    }
   ],
   "source": [
    "#kalimat palindrome atau bukan \n",
    "\n",
    "kalimat = input (\"masukan kalimat :\")\n",
    "panjang = len(kalimat)\n",
    "keterangan = \"kalimat palindrome\"\n",
    "\n",
    "for i in range(0,panjang):\n",
    "    kika = kalimat [i]\n",
    "    kaki = kalimat [panjang - i-1]\n",
    "    if kika != kaki:\n",
    "        keterangan = \"BUKAN palindrome\"\n",
    "        break\n",
    "print(f\"{keterangan}\")\n",
    "jawab =\"\"\n",
    "while (jawab!=\"Y\" and jawab !=\"T\"):\n",
    "    ulang = input (\"Apakah mau mengulang program(Y/T)?:\")\n",
    "ulang = jawab"
   ]
  },
  {
   "cell_type": "code",
   "execution_count": null,
   "id": "7ed232d1",
   "metadata": {},
   "outputs": [],
   "source": []
  }
 ],
 "metadata": {
  "kernelspec": {
   "display_name": "Python 3 (ipykernel)",
   "language": "python",
   "name": "python3"
  },
  "language_info": {
   "codemirror_mode": {
    "name": "ipython",
    "version": 3
   },
   "file_extension": ".py",
   "mimetype": "text/x-python",
   "name": "python",
   "nbconvert_exporter": "python",
   "pygments_lexer": "ipython3",
   "version": "3.9.12"
  }
 },
 "nbformat": 4,
 "nbformat_minor": 5
}
